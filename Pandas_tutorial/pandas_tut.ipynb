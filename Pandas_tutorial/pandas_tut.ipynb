{
 "cells": [
  {
   "cell_type": "markdown",
   "metadata": {},
   "source": [
    "# PRINT PANDAS VERSION"
   ]
  },
  {
   "cell_type": "code",
   "execution_count": 7,
   "metadata": {},
   "outputs": [
    {
     "name": "stdout",
     "output_type": "stream",
     "text": [
      "1.3.4\n"
     ]
    }
   ],
   "source": [
    "import pandas as pd\n",
    "\n",
    "print(pd.__version__)"
   ]
  },
  {
   "cell_type": "markdown",
   "metadata": {},
   "source": [
    "# 1. READING CSV FILE "
   ]
  },
  {
   "cell_type": "code",
   "execution_count": null,
   "metadata": {},
   "outputs": [],
   "source": [
    "# use to_string() to print the entire DataFrame\n",
    "\n",
    "import pandas as pd1\n",
    "\n",
    "df = pd1.read_csv(\"C:/Users/POOJA KENJALE/Desktop/industry.csv\")\n",
    "print(df.to_string())\n"
   ]
  },
  {
   "cell_type": "markdown",
   "metadata": {},
   "source": [
    "# 2. READING EXCEL FILE "
   ]
  },
  {
   "cell_type": "code",
   "execution_count": null,
   "metadata": {},
   "outputs": [],
   "source": [
    "\n",
    "import pandas as pd1\n",
    "df = pd1.read_excel(\"C:/Users/POOJA KENJALE/Desktop/Financial Sample.xlsx\", sheet_name = \"Sheet1\")\n",
    "print(df)\n",
    "\n"
   ]
  },
  {
   "cell_type": "markdown",
   "metadata": {},
   "source": [
    "# 3. SERIES "
   ]
  },
  {
   "cell_type": "code",
   "execution_count": null,
   "metadata": {},
   "outputs": [],
   "source": [
    "\n",
    "\"\"\"\n",
    " A Pandas Series is like a column in a table.\n",
    " A Series is a one-dimensional labeled array capable of holding any data type.\n",
    " It can be thought of as a single column of data. It has a single index and values associated with that index.\n",
    "\n",
    "\"\"\"\n",
    "\n",
    "import pandas as pd\n",
    "\n",
    "data = [12, 23, 56, 45]\n",
    "my_series = pd.Series(data)\n",
    "print(my_series)\n",
    "\n",
    "\n",
    "# If nothing is specified, the values are labeled with their index number. First value has 0, second value has 1, etc.\n",
    "\n"
   ]
  },
  {
   "cell_type": "markdown",
   "metadata": {},
   "source": [
    "### 3.1 LABELS: -"
   ]
  },
  {
   "cell_type": "code",
   "execution_count": null,
   "metadata": {},
   "outputs": [],
   "source": [
    "\n",
    "# If nothing is specified, the values are labeled with their index number. First value has 0, second value has 1, etc.\n",
    "\n",
    "\"\"\"\n",
    "\n",
    "We can also name own labels.\n",
    "\n",
    "\"\"\"\n",
    "\n",
    "import pandas as pd\n",
    "\n",
    "data = [12, 21, 32]\n",
    "my_series = pd.Series(data, index = [\"x\",\"y\",\"z\"])\n",
    "print(my_series)\n",
    "\n",
    "# We can access items by created labels i.e.: - refer to above example \n",
    "\n",
    "print(my_series[\"x\"])\n",
    "\n"
   ]
  },
  {
   "cell_type": "markdown",
   "metadata": {},
   "source": [
    "#### 3.2 KEY/VALUE Objects as a Series: -"
   ]
  },
  {
   "cell_type": "code",
   "execution_count": null,
   "metadata": {},
   "outputs": [],
   "source": [
    "\n",
    "\"\"\" \n",
    "you can also use a Key/Value object, like a dictionary, when creating a series.\n",
    "\n",
    "\"\"\"\n",
    "\n",
    "import pandas as pd\n",
    "\n",
    "calories = {\"day1\": 420, \"day2\": 380, \"day3\": 390}      # python dictionary\n",
    "\n",
    "my_series = pd.Series(calories)\n",
    "print(my_series)\n",
    "\n",
    "\n",
    "# NOTE: - The key of the dictionary becomes labels.\n",
    "\n",
    "\n"
   ]
  },
  {
   "cell_type": "code",
   "execution_count": null,
   "metadata": {},
   "outputs": [],
   "source": [
    "\n",
    "\"\"\"\n",
    "To select more than 1 items in dictionary, use the index argument and specify only items you want to include in the series.\n",
    "\n",
    "\"\"\"\n",
    "\n",
    "import pandas as pd\n",
    "\n",
    "calories = {\"day1\": 420, \"day2\": 380, \"day3\": 390}      # python dictionary\n",
    "\n",
    "my_series = pd.Series(calories, index = [\"day1\", \"day2\"])\n",
    "print(my_series)\n"
   ]
  },
  {
   "cell_type": "markdown",
   "metadata": {},
   "source": [
    "# 4. DATAFRAME"
   ]
  },
  {
   "cell_type": "code",
   "execution_count": null,
   "metadata": {},
   "outputs": [],
   "source": [
    "\n",
    "\"\"\"\n",
    "A DataFrame is a two-dimensional labeled data structure with columns that can be of different types.\n",
    "It can be thought of as a table with rows and columns. Each column in a DataFrame is a Series.\n",
    "\n",
    "\"\"\"\n",
    "\n",
    "import pandas as pd\n",
    "\n",
    "data = {\n",
    "    \"cars\" : [\"Tata\", \"Mahindra\", \"Maruti\"],            # python dictionary\n",
    "    \"Model\" : [2020, 2021, 2018]\n",
    "}\n",
    "\n",
    "my_dataframe = pd.DataFrame(data)\n",
    "print(my_dataframe)\n"
   ]
  },
  {
   "cell_type": "markdown",
   "metadata": {},
   "source": [
    "### 4.1 Locate Row (loc): - "
   ]
  },
  {
   "cell_type": "code",
   "execution_count": null,
   "metadata": {},
   "outputs": [],
   "source": [
    "\"\"\"\n",
    "DataFrame is like table with rows and columns\n",
    "Pandas uses 'loc' attribute to return one or more specified rows.\n",
    "\"\"\"\n",
    "\n",
    "import pandas as pd\n",
    "\n",
    "data = {\n",
    "    \"cars\" : [\"Tata\", \"Mahindra\", \"Maruti\"],            # python dictionary\n",
    "    \"Model\" : [2020, 2021, 2018]\n",
    "}\n",
    "\n",
    "my_dataframe = pd.DataFrame(data)\n",
    "print(my_dataframe.loc[0])\n",
    "\n",
    "\n",
    "# Note: This example returns a Pandas Series.\n"
   ]
  },
  {
   "cell_type": "code",
   "execution_count": null,
   "metadata": {},
   "outputs": [],
   "source": [
    "# If you want to return more than 1 row then: - \n",
    "\n",
    "import pandas as pd\n",
    "\n",
    "data = {\n",
    "    \"cars\" : [\"Tata\", \"Mahindra\", \"Maruti\"],            # python dictionary\n",
    "    \"Model\" : [2020, 2021, 2018]\n",
    "}\n",
    "\n",
    "my_dataframe = pd.DataFrame(data)\n",
    "print(my_dataframe.loc[[0, 1]])\n",
    "\n",
    "# Note: When using [], the result is a Pandas DataFrame.\n"
   ]
  },
  {
   "cell_type": "markdown",
   "metadata": {},
   "source": [
    "### 4.2 Named Index: - "
   ]
  },
  {
   "cell_type": "code",
   "execution_count": null,
   "metadata": {},
   "outputs": [],
   "source": [
    "# With index argument, you can name your own indexes.\n",
    "\n",
    "import pandas as pd\n",
    "\n",
    "data = {\n",
    "    \"calories\" : [420, 120, 100],\n",
    "    \"duration\" : [50, 40, 25]\n",
    "}\n",
    "\n",
    "my_dataframe = pd.DataFrame(data, index = [\"day1\", \"day2\", \"day3\"])\n",
    "print(my_dataframe)\n"
   ]
  },
  {
   "cell_type": "markdown",
   "metadata": {},
   "source": [
    "### 4.3 Locate Named Index: - "
   ]
  },
  {
   "cell_type": "code",
   "execution_count": null,
   "metadata": {},
   "outputs": [],
   "source": [
    "# refer the above example\n",
    "# Use the named index in the loc attribute to return the specified row(s).\n",
    "\n",
    "\n",
    "print(my_dataframe.loc[\"day1\"])"
   ]
  },
  {
   "cell_type": "markdown",
   "metadata": {},
   "source": [
    "# 5. Loading CSV file into DataFrame"
   ]
  },
  {
   "cell_type": "code",
   "execution_count": null,
   "metadata": {},
   "outputs": [],
   "source": [
    "# If we print DataFrame without to_string() then, it will return first 5 rows and the last 5 rows: -\n",
    "\n",
    "import pandas as pd\n",
    "\n",
    "my_dataframe = pd.read_csv(\"C:/Users/POOJA KENJALE/Desktop/industry.csv\")\n",
    "print(my_dataframe)\n",
    "\n",
    "\n",
    "# Note: - Use to_string() to print the entire DataFrame\n",
    "\n",
    "print(my_dataframe.to_string())\n",
    "\n"
   ]
  },
  {
   "cell_type": "markdown",
   "metadata": {},
   "source": [
    "### 5.1 max_rows"
   ]
  },
  {
   "cell_type": "code",
   "execution_count": null,
   "metadata": {},
   "outputs": [],
   "source": [
    "\"\"\"\n",
    "The no. of rows returned is defined in pandas option settings.\n",
    "You can check it by \"pd.options.display.max_rows\": -\n",
    "\n",
    "\"\"\"\n",
    "\n",
    "print(pd.options.display.max_rows)\n",
    "\n",
    "\n",
    "# You can also set the no. of rows to be returned by :- \n",
    "\n",
    "pd.options.display.max_rows = 999\n",
    "print(pd.options.display.max_rows)"
   ]
  },
  {
   "cell_type": "markdown",
   "metadata": {},
   "source": [
    "# 6. READING JSON FILE"
   ]
  },
  {
   "cell_type": "code",
   "execution_count": null,
   "metadata": {},
   "outputs": [],
   "source": [
    "# Big data sets are often stored, or extracted as JSON.\n",
    "\n",
    "import pandas as pd\n",
    "\n",
    "my_dataframe = pd.read_json(\"C:/Users/POOJA KENJALE/Desktop/sample.json\")\n",
    "print(my_dataframe.to_string())"
   ]
  },
  {
   "cell_type": "markdown",
   "metadata": {},
   "source": [
    "### 6.1 Dictionary as JSON"
   ]
  },
  {
   "cell_type": "code",
   "execution_count": 12,
   "metadata": {},
   "outputs": [
    {
     "name": "stdout",
     "output_type": "stream",
     "text": [
      "   fruit   size color\n",
      "0  Apple  Large   Red\n"
     ]
    }
   ],
   "source": [
    "# 1) The primary difference between JSON and Python dictionary is that JSON is a text-based data format, while a Python dictionary is a data structure.\n",
    "# 2) The keys in JSON can only Strings. Whereas Keys in Python dictionary can hashable object.\n",
    "\n",
    "# If JSON code is not in a file, but in a python dictionary then, you can directly load into DataFrame.\n",
    "\n",
    "import pandas as pd\n",
    "\n",
    "data = [{\n",
    "    \"fruit\" : \"Apple\",\n",
    "    \"size\" : \"Large\",\n",
    "    \"color\" : \"Red\"\n",
    "}]\n",
    "\n",
    "my_dataframe = pd.DataFrame(data)\n",
    "print(my_dataframe)\n"
   ]
  },
  {
   "cell_type": "markdown",
   "metadata": {},
   "source": [
    "# 7. PANDAS ANALYZING DATA"
   ]
  },
  {
   "cell_type": "markdown",
   "metadata": {},
   "source": [
    "## 7.1 VIEWING THE DATA: - "
   ]
  },
  {
   "cell_type": "markdown",
   "metadata": {},
   "source": [
    "### 7.1.1 VIEWING THE DATA FROM TOP: - "
   ]
  },
  {
   "cell_type": "code",
   "execution_count": null,
   "metadata": {},
   "outputs": [],
   "source": [
    "# One of the most used method to get a quick overview of the data is head() method\n",
    "# The head() returns the headers and a specified number of rows, starting from top \n",
    "\n",
    "# Note: - If the number is not specified then, it will print top 5 rows by default.\n",
    "\n",
    "import pandas as pd\n",
    "\n",
    "data = pd.read_csv(\"C:/Users/POOJA KENJALE/Desktop/industry.csv\")\n",
    "print(data.head(10))"
   ]
  },
  {
   "cell_type": "markdown",
   "metadata": {},
   "source": [
    "### 7.1.2 VIEWING THE DATA FROM BOTTOM: - "
   ]
  },
  {
   "cell_type": "code",
   "execution_count": null,
   "metadata": {},
   "outputs": [],
   "source": [
    "# To view the data(First 5 rows) from the bottom of the DataFrame, tail() is used.\n",
    " # tail() returns the header and specified number of rows.\n",
    "\n",
    "import pandas as pd\n",
    "\n",
    "data = pd.read_csv(\"C:/Users/POOJA KENJALE/Desktop/industry.csv\")\n",
    "print(data.tail(10))\n"
   ]
  },
  {
   "cell_type": "markdown",
   "metadata": {},
   "source": [
    "### 7.1.3 INFO ABOUT THE DATA: - "
   ]
  },
  {
   "cell_type": "code",
   "execution_count": 17,
   "metadata": {},
   "outputs": [
    {
     "name": "stdout",
     "output_type": "stream",
     "text": [
      "<class 'pandas.core.frame.DataFrame'>\n",
      "RangeIndex: 43 entries, 0 to 42\n",
      "Data columns (total 1 columns):\n",
      " #   Column    Non-Null Count  Dtype \n",
      "---  ------    --------------  ----- \n",
      " 0   Industry  43 non-null     object\n",
      "dtypes: object(1)\n",
      "memory usage: 472.0+ bytes\n",
      "None\n"
     ]
    }
   ],
   "source": [
    "# info() method gives you the information about the data set. [Refer above example]\n",
    "# As you can see in the o/p that, info() also tells you about Non-Null values or empty values. You should consider removing rows with empty values, and that is called as \"Data Cleaning\"\n",
    "\n",
    "print(data.info()) \n"
   ]
  },
  {
   "cell_type": "markdown",
   "metadata": {},
   "source": [
    "# 8. DATA CLEANING"
   ]
  },
  {
   "cell_type": "code",
   "execution_count": null,
   "metadata": {},
   "outputs": [],
   "source": [
    "\"\"\"\n",
    "Data Cleaning is the process of removing bad data from the given data set.\n",
    "\n",
    "Bad Data can be: - \n",
    "    1) Empty Cells/Null values\n",
    "    2) Data in wrong format\n",
    "    3) Wrong Data\n",
    "    4) Duplicate data\n",
    "\n",
    "\"\"\""
   ]
  },
  {
   "cell_type": "markdown",
   "metadata": {},
   "source": [
    "## 8.1 Cleaning Empty Cells: - "
   ]
  },
  {
   "cell_type": "code",
   "execution_count": null,
   "metadata": {},
   "outputs": [],
   "source": [
    "# empty cells can potentially give you a wrong results when you analyze the data.\n",
    "# So 1 way is to remove the whole rows which contains the empty value. This is usually ok since data sets can be very big, & removing it will not have big impact on the results.\n",
    "\n",
    "import pandas as pd\n",
    "\n",
    "my_dataframe = pd.read_csv(\"C:/Users/POOJA KENJALE/Desktop/dataset_with_bad_data.csv\")\n",
    "new_dataframe = my_dataframe.dropna()\n",
    "\n",
    "print(new_dataframe)\n",
    "\n",
    "\n",
    "\n",
    "# By default, dropna() returns new dataframe. In order to replace in the same dataframe use: - inplace = True\n",
    "\n",
    "import pandas as pd\n",
    "\n",
    "my_dataframe = pd.read_csv(\"C:/Users/POOJA KENJALE/Desktop/dataset_with_bad_data.csv\")\n",
    "\n",
    "my_dataframe.dropna(inplace = True)\n",
    "print(my_dataframe.to_string())\n",
    "\n",
    "\n",
    "# Now, inplace = True will not create a new dataframe, but it will remove the rows containing NULL values from the original dataframe.\n"
   ]
  },
  {
   "cell_type": "markdown",
   "metadata": {},
   "source": [
    "### 8.1.1 Replace empty values with another value"
   ]
  },
  {
   "cell_type": "code",
   "execution_count": null,
   "metadata": {},
   "outputs": [],
   "source": [
    "# one more way to remove the empty values is by replacing it with another value. So that you will not have to delete the row just because it has empty cella.\n",
    "# It can be done by fillna()\n",
    "\n",
    "\n",
    "import pandas as pd\n",
    "\n",
    "my_dataframe = pd.read_csv(\"C:/Users/POOJA KENJALE/Desktop/dataset_with_bad_data.csv\")\n",
    "my_dataframe.fillna(130, inplace = True)\n",
    "print(my_dataframe.to_string())"
   ]
  },
  {
   "cell_type": "markdown",
   "metadata": {},
   "source": [
    "### 8.1.2 Replace empty values with another value only for specified columns: - "
   ]
  },
  {
   "cell_type": "code",
   "execution_count": null,
   "metadata": {},
   "outputs": [],
   "source": [
    "# here we will replace empty values with specified value but only for specified column.\n",
    "\n",
    "\n",
    "import pandas as pd\n",
    "\n",
    "my_dataframe = pd.read_csv(\"C:/Users/POOJA KENJALE/Desktop/dataset_with_bad_data.csv\")\n",
    "my_dataframe['Calories'].fillna(130, inplace = True)    # This will replace empty values from only calories column.\n",
    "print(my_dataframe)"
   ]
  },
  {
   "cell_type": "markdown",
   "metadata": {},
   "source": [
    "### 8.1.3 Replace empty values with MEAN/MEDIAN/MODE: - "
   ]
  },
  {
   "cell_type": "code",
   "execution_count": null,
   "metadata": {},
   "outputs": [],
   "source": [
    "#               Mean = the average value (the sum of all values divided by number of values).\n",
    "#               Median = the value in the middle, after you have sorted all values ascending.\n",
    "#               Mode = the value that appears most frequently.\n",
    "\n",
    "\n",
    "\n",
    "\n",
    "\n",
    "# Here first we are calculating MEAN and then replacing empty values with MEAN: - \n",
    "\n",
    "import pandas as pd\n",
    "\n",
    "my_dataframe = pd.read_csv(\"C:/Users/POOJA KENJALE/Desktop/dataset_with_bad_data.csv\")\n",
    "x = my_dataframe['Calories'].mean()\n",
    "my_dataframe.fillna(x, inplace = True)\n",
    "print(my_dataframe)\n",
    "\n",
    "\n",
    "\n",
    "\n",
    "\n",
    "\n",
    "# Here first we are calculating MEDIAN and then replacing empty values with MEDIAN: - \n",
    "\n",
    "import pandas as pd\n",
    "\n",
    "my_dataframe = pd.read_csv(\"C:/Users/POOJA KENJALE/Desktop/dataset_with_bad_data.csv\")\n",
    "x = my_dataframe['Calories'].median()\n",
    "my_dataframe.fillna(x, inplace = True)\n",
    "print(my_dataframe)\n",
    "\n",
    "\n",
    "\n",
    "\n",
    "\n",
    "\n",
    "\n",
    "# Here first we are calculating MODE and then replacing empty values with MODE: - \n",
    "\n",
    "import pandas as pd\n",
    "\n",
    "my_dataframe = pd.read_csv(\"C:/Users/POOJA KENJALE/Desktop/dataset_with_bad_data.csv\")\n",
    "x = my_dataframe['Calories'].mode()[0]\n",
    "my_dataframe.fillna(x, inplace = True)\n",
    "print(my_dataframe)"
   ]
  },
  {
   "cell_type": "markdown",
   "metadata": {},
   "source": [
    "## 8.2 Cleaning Wrong Format Data"
   ]
  },
  {
   "cell_type": "code",
   "execution_count": null,
   "metadata": {},
   "outputs": [],
   "source": [
    "\"\"\"\n",
    "\n",
    " Sometimes it may happen that data set contains cells with wrong data format. In resulting, difficult or even impossible to analyze data.\n",
    " There are 2 options: - \n",
    "   1) Delete the entire row containing wrong data format\n",
    "   2) Convert all cells in the column into same format.\n",
    "\n",
    "\n",
    "\"\"\"\n",
    "\n",
    "# ---------------------------------------------------------------------------------- Delete the entire row containing wrong data format -----------------------------------------------------------------\n",
    "import pandas as pd\n",
    "\n",
    "\n",
    "data = pd.read_csv(\"C:/Users/POOJA KENJALE/Desktop/dataset_with_bad_data.csv\")\n",
    "data.dropna(inplace = True)                                \n",
    "print(data.to_string())\n",
    "\n",
    "\n",
    "# OR IF you want to delete Rows with Missing Values in a Specific Column (Date in this case): - \n",
    "\n",
    "df.dropna(subset=['Date'], inplace = True)\n",
    "\n",
    "\n",
    "\n",
    "\n",
    "\n",
    "\n",
    "\n",
    "\n",
    "# ---------------------------------------------------------------------------------- Convert all cells in the column into same format -----------------------------------------------------------------\n",
    "\n",
    "\n",
    "import pandas as pd\n",
    "\n",
    "\n",
    "data = pd.read_csv(\"C:/Users/POOJA KENJALE/Desktop/dataset_with_bad_data.csv\")\n",
    "data['Date'] = pd.to_datetime(data['Date'])                               \n",
    "print(data.to_string())\n"
   ]
  },
  {
   "cell_type": "markdown",
   "metadata": {},
   "source": [
    "## 8.3 Cleaning Wrong Data"
   ]
  },
  {
   "cell_type": "code",
   "execution_count": null,
   "metadata": {},
   "outputs": [],
   "source": [
    "\"\"\"\n",
    "\"Wrong data\" does not have to be \"empty cells\" or \"wrong format\", it can just be wrong, like if someone registered \"199\" instead of \"1.99\".\n",
    "\n",
    "Sometimes you can spot wrong data by looking at the data set, because you have an expectation of what it should be.\n",
    " It can be solved by: - \n",
    "    1) Replacing the value \n",
    "    2) Deleting the entire row\n",
    "\n",
    "\"\"\"\n",
    "\n",
    "\n",
    "import pandas as pd\n",
    "\n",
    "data = pd.read_csv(\"C:/Users/POOJA KENJALE/Desktop/dataset_with_bad_data.csv\")\n",
    "print(data.to_string())\n",
    "\n",
    "\n",
    "# ---------------------------------------------------------------------------------- Replacing the value -----------------------------------------------------------------\n",
    "\n",
    "\n",
    "import pandas as pd\n",
    "\n",
    "\n",
    "data = pd.read_csv(\"C:/Users/POOJA KENJALE/Desktop/dataset_with_bad_data.csv\")\n",
    "for x in data.index:\n",
    "    data.loc[7, 'Duration'] = 45                # replacing the value at 7th row with value 45\n",
    "\n",
    "print(data.to_string())\n",
    "\n",
    "\n",
    "# The above code is for small dataset, but what if we have big dataset\n",
    "\n",
    "\n",
    "import pandas as pd\n",
    "\n",
    "\n",
    "data = pd.read_csv(\"C:/Users/POOJA KENJALE/Desktop/dataset_with_bad_data.csv\")\n",
    "for x in data.index:\n",
    "    if data.loc[x, 'Duration'] > 120:\n",
    "        data.loc[x, 'Duration'] = 45\n",
    "\n",
    "print(data.to_string())\n",
    "\n",
    "\n",
    "\n",
    "\n",
    "\n",
    "\n",
    "\n",
    "\n",
    "\n",
    "# ---------------------------------------------------------------------------------- Deleting the entire row -----------------------------------------------------------------\n",
    "\n",
    "\n",
    "import pandas as pd \n",
    "\n",
    "\n",
    "data = pd.read_csv(\"C:/Users/POOJA KENJALE/Desktop/dataset_with_bad_data.csv\")\n",
    "for x in data.index:\n",
    "    if data.loc[x, 'Duration'] > 120:\n",
    "        data.drop(x, inplace = True)\n",
    "\n",
    "print(data.to_string())\n",
    "\n"
   ]
  },
  {
   "cell_type": "markdown",
   "metadata": {},
   "source": [
    "## 8.4 Removing Duplicates"
   ]
  },
  {
   "cell_type": "code",
   "execution_count": null,
   "metadata": {},
   "outputs": [],
   "source": [
    "# We can discover duplicate values by: - \n",
    "\n",
    "import pandas as pd\n",
    "\n",
    "data = pd.read_csv(\"C:/Users/POOJA KENJALE/Desktop/dataset_with_bad_data.csv\")\n",
    "print(data.duplicated())\n",
    "\n",
    "\n",
    "\n",
    "\n",
    "# And we can delete duplicates by: - \n",
    "\n",
    "\n",
    "import pandas as pd\n",
    "\n",
    "data = pd.read_csv(\"C:/Users/POOJA KENJALE/Desktop/dataset_with_bad_data.csv\")\n",
    "data.drop_duplicates(inplace = True)"
   ]
  },
  {
   "cell_type": "markdown",
   "metadata": {},
   "source": [
    "# 9. PANDAS CORRELATION"
   ]
  },
  {
   "cell_type": "code",
   "execution_count": 10,
   "metadata": {},
   "outputs": [
    {
     "name": "stdout",
     "output_type": "stream",
     "text": [
      "          Duration     Pulse  Maxpulse  Calories\n",
      "Duration  1.000000 -0.155408  0.009403  0.922717\n",
      "Pulse    -0.155408  1.000000  0.786535  0.025121\n",
      "Maxpulse  0.009403  0.786535  1.000000  0.203813\n",
      "Calories  0.922717  0.025121  0.203813  1.000000\n"
     ]
    }
   ],
   "source": [
    "# corr() method is used to calculate the relationship between each column in your data set.\n",
    "# Note: - corr() method ignores \"non numeric\" columns.\n",
    "\n",
    "import pandas as pd\n",
    "\n",
    "data = pd.read_csv(\"C:/Users/POOJA KENJALE/Desktop/data.csv\")\n",
    "print(data.corr())\n",
    "\n",
    "\n",
    "\n",
    "\"\"\"\n",
    "How to read Results: - \n",
    "\n",
    "    - The result of the corr() is a tale with a numbers that represents how well the relationship between 2 columns.\n",
    "    - The number varies between 1 and -1.\n",
    "    - 1 means there is 1 to 1 relationship between (a perfect correlation).\n",
    "    - 0.9 is also a good relationship, and if you increase one value, the other will probably increase as well.\n",
    "    - (-0.9) is as good as 0.9, but if you increase one value, other might go down.\n",
    "    - 0.2 is NOT a good relationship, meaning that if one value goes up does not meant other will. \n",
    "\n",
    "Now, what is good relationship, It's safe to say 0.6 or (-0.6) is a good relationship.\n",
    "\n",
    "\n",
    "\n",
    "\"\"\""
   ]
  },
  {
   "cell_type": "markdown",
   "metadata": {},
   "source": [
    "# 10. PANDAS PLOTTING "
   ]
  },
  {
   "cell_type": "code",
   "execution_count": 15,
   "metadata": {},
   "outputs": [
    {
     "data": {
      "image/png": "[encoded data removed]",
      "text/plain": [
       "<Figure size 432x288 with 1 Axes>"
      ]
     },
     "metadata": {
      "needs_background": "light"
     },
     "output_type": "display_data"
    }
   ],
   "source": [
    "\"\"\"\n",
    "\n",
    "pandas uses plot() method to create diagrams.\n",
    "We can use \"Pyplot\", a submodule of the \"Matplotlib\" library to visualize the diagram on screen.\n",
    "NOTE: - plot() method requires numeric dataset.\n",
    "\n",
    "\n",
    "\"\"\"\n",
    "\n",
    "\n",
    "import pandas as pd\n",
    "import matplotlib.pyplot as plt\n",
    "\n",
    "data = pd.read_csv(\"C:/Users/POOJA KENJALE/Desktop/dataset_with_bad_data.csv\")\n",
    "data.plot()\n",
    "plt.show()"
   ]
  },
  {
   "cell_type": "markdown",
   "metadata": {},
   "source": [
    "### 10.1 Scatter Plot: - "
   ]
  },
  {
   "cell_type": "code",
   "execution_count": 16,
   "metadata": {},
   "outputs": [
    {
     "data": {
      "image/png": "[encoded data removed]",
      "text/plain": [
       "<Figure size 432x288 with 1 Axes>"
      ]
     },
     "metadata": {
      "needs_background": "light"
     },
     "output_type": "display_data"
    }
   ],
   "source": [
    "\"\"\"\n",
    "Scatter plot requires x-axis and y-axis.\n",
    "And it can be done by specifying kind = \"scatter\"\n",
    "\n",
    "\n",
    "\"\"\" \n",
    "\n",
    "\n",
    "import pandas as pd\n",
    "import matplotlib.pyplot as plt\n",
    "\n",
    "data = pd.read_csv(\"C:/Users/POOJA KENJALE/Desktop/dataset_with_bad_data.csv\")\n",
    "data.plot(kind = \"scatter\", x = \"Duration\", y = \"Calories\")\n",
    "\n",
    "plt.show()\n"
   ]
  },
  {
   "cell_type": "markdown",
   "metadata": {},
   "source": [
    "### 10.2 Histogram Plot: - "
   ]
  },
  {
   "cell_type": "code",
   "execution_count": 31,
   "metadata": {},
   "outputs": [
    {
     "data": {
      "image/png": "[encoded data removed]",
      "text/plain": [
       "<Figure size 432x288 with 1 Axes>"
      ]
     },
     "metadata": {
      "needs_background": "light"
     },
     "output_type": "display_data"
    }
   ],
   "source": [
    "\"\"\"\n",
    "A histogram need only 1 column.\n",
    "A histogram can be created by kind = \"hist\".\n",
    "\n",
    "\n",
    "\"\"\"\n",
    "\n",
    "\n",
    "\n",
    "import pandas as pd\n",
    "import matplotlib.pyplot as plt\n",
    "data = pd.read_csv(\"C:/Users/POOJA KENJALE/Desktop/dataset_with_bad_data.csv\")\n",
    "data[\"Calories\"].plot(kind = \"hist\")\n",
    "\n",
    "plt.show()\n",
    "\n"
   ]
  }
 ],
 "metadata": {
  "kernelspec": {
   "display_name": "base",
   "language": "python",
   "name": "python3"
  },
  "language_info": {
   "codemirror_mode": {
    "name": "ipython",
    "version": 3
   },
   "file_extension": ".py",
   "mimetype": "text/x-python",
   "name": "python",
   "nbconvert_exporter": "python",
   "pygments_lexer": "ipython3",
   "version": "3.9.7"
  }
 },
 "nbformat": 4,
 "nbformat_minor": 2
}
