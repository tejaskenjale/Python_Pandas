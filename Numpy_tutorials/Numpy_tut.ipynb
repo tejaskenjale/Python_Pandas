{
 "cells": [
  {
   "cell_type": "markdown",
   "metadata": {},
   "source": [
    "# 1. NumPy Introduction"
   ]
  },
  {
   "cell_type": "code",
   "execution_count": null,
   "metadata": {},
   "outputs": [],
   "source": [
    "# What is NumPy?\n",
    "\n",
    "\"\"\"\n",
    "\n",
    "NumPy is a short name for \"Numerical Python\".\n",
    "NumPy is python library.\n",
    "NumPy is used for working with arrays.\n",
    "\n",
    "\"\"\"\n",
    "\n",
    "# Why NumPy?\n",
    "\n",
    "\"\"\"\n",
    "In python we have a \"List\" that serves the purpose of array, but it is very slow to process.\n",
    "So List has alternative of NumPy that is 50x faster than List.\n",
    "\n",
    "\"\"\"\n",
    "\n",
    "# Why NumPy is faster than List?\n",
    "\n",
    "\"\"\"\n",
    "NumPy stores data elements in Contiguous manner. That means, the data elements are stored adjacent to each other or one continuous place in memory. Whereas, List stores data elements in scattered manner.\n",
    "\n",
    "\n",
    "\"\"\""
   ]
  },
  {
   "cell_type": "markdown",
   "metadata": {},
   "source": [
    "# 2. Checking NumPy Version"
   ]
  },
  {
   "cell_type": "code",
   "execution_count": 7,
   "metadata": {},
   "outputs": [
    {
     "name": "stdout",
     "output_type": "stream",
     "text": [
      "1.23.5\n"
     ]
    }
   ],
   "source": [
    "import numpy as np\n",
    "\n",
    "print(np.__version__)"
   ]
  },
  {
   "cell_type": "markdown",
   "metadata": {},
   "source": [
    "# 3. Creating NumPy arrays"
   ]
  },
  {
   "cell_type": "code",
   "execution_count": 6,
   "metadata": {},
   "outputs": [
    {
     "name": "stdout",
     "output_type": "stream",
     "text": [
      "[1 2 3]\n",
      "<class 'numpy.ndarray'>\n"
     ]
    }
   ],
   "source": [
    "\"\"\"\n",
    "The array object in NumPy called as ndarray.\n",
    "We can create NumPy ndarray object using array() function.\n",
    "\n",
    "\"\"\" \n",
    "\n",
    "import numpy as np \n",
    "\n",
    "data = np.array([1, 2, 3])\n",
    "print(data)\n",
    "print(type(data))"
   ]
  },
  {
   "cell_type": "markdown",
   "metadata": {},
   "source": [
    "### 3.1. Passing python List to Numpy array"
   ]
  },
  {
   "cell_type": "code",
   "execution_count": 16,
   "metadata": {},
   "outputs": [
    {
     "name": "stdout",
     "output_type": "stream",
     "text": [
      "['1' '2' 'Tejas']\n"
     ]
    }
   ],
   "source": [
    "import numpy as np\n",
    "\n",
    "list1 = [1, 2, \"Tejas\"]\n",
    "arr = np.array(list1)\n",
    "print(arr)"
   ]
  },
  {
   "cell_type": "markdown",
   "metadata": {},
   "source": [
    "### 3.2 Passing python tuple to Numpy array"
   ]
  },
  {
   "cell_type": "code",
   "execution_count": 20,
   "metadata": {},
   "outputs": [
    {
     "name": "stdout",
     "output_type": "stream",
     "text": [
      "['1' '2' 'Tejas']\n"
     ]
    }
   ],
   "source": [
    "import numpy as np\n",
    "\n",
    "arr = np.array((1, 2, \"Tejas\"))\n",
    "print(arr)"
   ]
  },
  {
   "cell_type": "markdown",
   "metadata": {},
   "source": [
    "### 3.3. Passing python dictionary to NumPy array"
   ]
  },
  {
   "cell_type": "code",
   "execution_count": 15,
   "metadata": {},
   "outputs": [
    {
     "name": "stdout",
     "output_type": "stream",
     "text": [
      "{'name': 1, 'email': 2}\n"
     ]
    }
   ],
   "source": [
    "import numpy as np\n",
    "\n",
    "arr = np.array({'name' : 1, 'email' : 2})\n",
    "print(arr)"
   ]
  },
  {
   "cell_type": "markdown",
   "metadata": {},
   "source": [
    "# 4. Dimension in arrays"
   ]
  },
  {
   "cell_type": "markdown",
   "metadata": {},
   "source": [
    "## 4.1. 0-D array (0 Dimension array)"
   ]
  },
  {
   "cell_type": "code",
   "execution_count": 21,
   "metadata": {},
   "outputs": [
    {
     "name": "stdout",
     "output_type": "stream",
     "text": [
      "42\n"
     ]
    }
   ],
   "source": [
    "import numpy as np\n",
    "\n",
    "arr = np.array(42)\n",
    "print(arr)"
   ]
  },
  {
   "cell_type": "markdown",
   "metadata": {},
   "source": [
    "## 4.2. 1-D array (1 Dimension array)"
   ]
  },
  {
   "cell_type": "code",
   "execution_count": 22,
   "metadata": {},
   "outputs": [
    {
     "name": "stdout",
     "output_type": "stream",
     "text": [
      "[12 24 36]\n"
     ]
    }
   ],
   "source": [
    "import numpy as np \n",
    "\n",
    "arr = np.array([12, 24, 36])\n",
    "print(arr)"
   ]
  },
  {
   "cell_type": "markdown",
   "metadata": {},
   "source": [
    "## 4.3. 2-D array (2 Dimension array)"
   ]
  },
  {
   "cell_type": "code",
   "execution_count": 24,
   "metadata": {},
   "outputs": [
    {
     "name": "stdout",
     "output_type": "stream",
     "text": [
      "[[1 2 3]\n",
      " [4 5 6]]\n"
     ]
    }
   ],
   "source": [
    "import numpy as np\n",
    "\n",
    "arr = np.array([[1, 2, 3], [4, 5, 6]])\n",
    "print(arr)"
   ]
  },
  {
   "cell_type": "markdown",
   "metadata": {},
   "source": [
    "# 4.4. 3-D array (3 Dimension array)"
   ]
  },
  {
   "cell_type": "code",
   "execution_count": 27,
   "metadata": {},
   "outputs": [
    {
     "name": "stdout",
     "output_type": "stream",
     "text": [
      "[[[ 1  2  3]\n",
      "  [ 4  5  6]]\n",
      "\n",
      " [[ 7  8  9]\n",
      "  [10 11 12]]]\n",
      "3\n"
     ]
    }
   ],
   "source": [
    "import numpy as np \n",
    "\n",
    "arr = np.array([[[1,2,3],[4,5,6]], [[7,8,9],[10,11,12]]])\n",
    "print(arr)"
   ]
  },
  {
   "cell_type": "markdown",
   "metadata": {},
   "source": [
    "### Checking number of Dimensions: - "
   ]
  },
  {
   "cell_type": "code",
   "execution_count": 31,
   "metadata": {},
   "outputs": [
    {
     "name": "stdout",
     "output_type": "stream",
     "text": [
      "0 -dimensional array\n",
      "1 -dimensional array\n",
      "2 -dimensional array\n",
      "3 -dimensional array\n"
     ]
    }
   ],
   "source": [
    "import numpy as np \n",
    "\n",
    "zero_dim = np.array(42)\n",
    "one_dim = np.array([1,2,3])\n",
    "two_dim = np.array([[1,2,3],[4,5,6]])\n",
    "three_dim = np.array([[[1,2,3],[4,5,6]], [[7,8,9],[10,11,12]]])\n",
    "\n",
    "print(zero_dim.ndim, \"-dimensional array\")\n",
    "print(one_dim.ndim, \"-dimensional array\")\n",
    "print(two_dim.ndim,  \"-dimensional array\")\n",
    "print(three_dim.ndim,  \"-dimensional array\")"
   ]
  },
  {
   "cell_type": "markdown",
   "metadata": {},
   "source": [
    "### Higher Dimension arrays: - "
   ]
  },
  {
   "cell_type": "code",
   "execution_count": 33,
   "metadata": {},
   "outputs": [
    {
     "name": "stdout",
     "output_type": "stream",
     "text": [
      "[[[[[1 2 3]]]]]\n",
      "Number of dimensions are: -  5\n"
     ]
    }
   ],
   "source": [
    "\"\"\"\n",
    "An array can have any number of dimensions.\n",
    "When the array is created you can define number of dimensions by using \"ndmin\" argument.\n",
    "\n",
    "\"\"\" \n",
    "\n",
    "\n",
    "import numpy as np\n",
    "\n",
    "arr = np.array([1, 2, 3], ndmin = 5)\n",
    "print(arr)\n",
    "print(\"Number of dimensions are: - \", arr.ndim)\n",
    "\n",
    "\n",
    "\"\"\"\n",
    "In this array the innermost dimension (5th dim) has 4 elements, the 4th dim has 1 element that is the vector, the 3rd dim has 1 element that is the matrix with the vector,\n",
    "the 2nd dim has 1 element that is 3D array and 1st dim has 1 element that is a 4D array.\n",
    "\n",
    "\"\"\" "
   ]
  },
  {
   "cell_type": "markdown",
   "metadata": {},
   "source": [
    "# 5. NumPy Array Indexing"
   ]
  },
  {
   "cell_type": "code",
   "execution_count": null,
   "metadata": {},
   "outputs": [],
   "source": [
    "\"\"\"\n",
    "Array indexing is same as accessing array element.\n",
    "You can access array element by referring to its index number.\n",
    "The indexes starts with 0, meaning that first element has index 0, and second has index 1.\n",
    "\n",
    "\"\"\" \n",
    "\n",
    "\n",
    "import numpy as np\n",
    "\n",
    "arr = np.array([12, 21, 30, 41])\n",
    "print(arr)\n",
    "print(\"The first index element is: - \", arr[0])\n",
    "\n",
    "\n",
    "\n",
    "\n",
    "# Addition of 3rd and 4th array elements: - \n",
    "\n",
    "import numpy as np\n",
    "\n",
    "arr = np.array([12, 21, 30, 41, 59])\n",
    "print(arr)\n",
    "print(\"The addition of 3rd and 4th element is: - \", arr[3] + arr[4])\n"
   ]
  },
  {
   "cell_type": "markdown",
   "metadata": {},
   "source": [
    "## 5.1. Accessing 2-D array: - "
   ]
  },
  {
   "cell_type": "code",
   "execution_count": null,
   "metadata": {},
   "outputs": [],
   "source": [
    "\"\"\"\n",
    "To access element from 2-D array. we can use comma separated integers representing dimension, and index of element.\n",
    "\n",
    "\"\"\" \n",
    "\n",
    "import numpy as np\n",
    "\n",
    "arr = np.array([[1,2,3], [4,5,6]])\n",
    "print(arr)\n",
    "print(arr[0,2])                         # Here we are accessing element from 0th dimension and 2nd index element."
   ]
  },
  {
   "cell_type": "markdown",
   "metadata": {},
   "source": [
    "## 5.2. Accessing 3-D array: - "
   ]
  },
  {
   "cell_type": "code",
   "execution_count": 45,
   "metadata": {},
   "outputs": [
    {
     "name": "stdout",
     "output_type": "stream",
     "text": [
      "[[[ 1  2  3]\n",
      "  [ 4  5  6]]\n",
      "\n",
      " [[ 7  8  9]\n",
      "  [10 11 12]]]\n",
      "6\n"
     ]
    }
   ],
   "source": [
    "\"\"\"\n",
    "To access element from 3-D array. we can use comma separated integers representing 1st dimension, 2nd dimension, and index of element.\n",
    "\n",
    "\"\"\" \n",
    "\n",
    "import numpy as np\n",
    "\n",
    "arr = np.array([[[1,2,3], [4,5,6]], [[7,8,9],[10,11,12]]])\n",
    "print(arr)\n",
    "print(arr[0,1,2])                          # Here we are accessing element from 0th dimension, 1st dimension and 2nd index element.\n",
    "\n",
    "\n",
    "\n",
    "\"\"\"\n",
    "\n",
    "Example Explained\n",
    "arr[0, 1, 2] prints the value 6.\n",
    "\n",
    "And this is why:\n",
    "\n",
    "The first number represents the first dimension, which contains two arrays:\n",
    "[[1, 2, 3], [4, 5, 6]]\n",
    "and:\n",
    "[[7, 8, 9], [10, 11, 12]]\n",
    "Since we selected 0, we are left with the first array:\n",
    "[[1, 2, 3], [4, 5, 6]]\n",
    "\n",
    "The second number represents the second dimension, which also contains two arrays:\n",
    "[1, 2, 3]\n",
    "and:\n",
    "[4, 5, 6]\n",
    "Since we selected 1, we are left with the second array:\n",
    "[4, 5, 6]\n",
    "\n",
    "The third number represents the third dimension, which contains three values:\n",
    "4\n",
    "5\n",
    "6\n",
    "Since we selected 2, we end up with the third value:\n",
    "6\n",
    "\n",
    "\n",
    "\"\"\" "
   ]
  },
  {
   "cell_type": "markdown",
   "metadata": {},
   "source": [
    "## 5.3. Negative Indexing: - "
   ]
  },
  {
   "cell_type": "code",
   "execution_count": 46,
   "metadata": {},
   "outputs": [
    {
     "name": "stdout",
     "output_type": "stream",
     "text": [
      "3\n"
     ]
    }
   ],
   "source": [
    "# To access last element we can simply say arr[-1].\n",
    "\n",
    "import numpy as np\n",
    "\n",
    "arr = np.array([1,2,3])\n",
    "print(arr[-1])"
   ]
  },
  {
   "cell_type": "markdown",
   "metadata": {},
   "source": [
    "# 6. NumPy Array Slicing"
   ]
  },
  {
   "cell_type": "code",
   "execution_count": 54,
   "metadata": {},
   "outputs": [
    {
     "name": "stdout",
     "output_type": "stream",
     "text": [
      "[20 30]\n",
      "[10 20 30 40]\n",
      "[20 30 40 50]\n",
      "[10 30 50]\n"
     ]
    }
   ],
   "source": [
    "\"\"\"\n",
    "Slicing in python means taking elements from one given index to another given index.\n",
    "We can specify it by: - [start:end].\n",
    "We can also specify: - [start:end:step].\n",
    "If we don't pass start index then, it by default starts with 0th index.     e.g.-> [:3]\n",
    "If we don't pass end index then, it considers length of an array.         e.g.-> [0:]\n",
    "And if we don't pass step then, it considers 1.                            \n",
    "\n",
    "\"\"\" \n",
    "\n",
    "\n",
    "import numpy as np \n",
    "\n",
    "arr = np.array([10, 20, 30, 40, 50])\n",
    "\n",
    "\n",
    "print(arr[1:3])\n",
    "print(arr[:4])\n",
    "print(arr[1:])\n",
    "print(arr[0::2])        # Here we haven't specified end index so, it will consider till last index element, and step as 2.\n"
   ]
  },
  {
   "cell_type": "markdown",
   "metadata": {},
   "source": [
    "## 6.1. Negative Slicing: - "
   ]
  },
  {
   "cell_type": "code",
   "execution_count": 57,
   "metadata": {},
   "outputs": [
    {
     "name": "stdout",
     "output_type": "stream",
     "text": [
      "[30 40]\n"
     ]
    }
   ],
   "source": [
    "import numpy as np \n",
    "\n",
    "arr = np.array([10, 20, 30, 40, 50])\n",
    "\n",
    "print(arr[-3:-1])                       # remember last element is considers as -1"
   ]
  },
  {
   "cell_type": "markdown",
   "metadata": {},
   "source": [
    "## 6.2. Slicing 2-D arrays: - "
   ]
  },
  {
   "cell_type": "code",
   "execution_count": null,
   "metadata": {},
   "outputs": [],
   "source": [
    "import numpy as np\n",
    "\n",
    "arr = np.array([[1, 2, 3, 4, 5], [6, 7, 8, 9, 10]])\n",
    "\n",
    "print(arr)\n",
    "print(arr[1, 1:4])                     # Here we are getting elements from 1st dimension, from 1st index to 3rd as last index is not considered in python.\n",
    "\n",
    "\n",
    "print(\"---------------------------------------------------------------------------------------------------------------------------------------------------------\")\n",
    "\n",
    "\n",
    "# If you want to get the 1st index element from both the dimensions 0th and 1st then: - \n",
    "\n",
    "import numpy as np\n",
    "\n",
    "\n",
    "arr = np.array([[1, 2, 3, 4, 5], [6, 7, 8, 9, 10]])\n",
    "\n",
    "print(\"If you want to get the 1st index element from both the dimensions 0th and 1st then: -\") \n",
    "print(arr[0:2, 1])\n",
    "\n",
    "\n",
    "\n",
    "\n",
    "print(\"---------------------------------------------------------------------------------------------------------------------------------------------------------\")\n",
    "\n",
    "\n",
    "# If you want to get the 1st to 4th index(not included) element from both the dimensions 0th and 1st then: -\n",
    "\n",
    "\n",
    "\n",
    "import numpy as np\n",
    "\n",
    "\n",
    "arr = np.array([[1, 2, 3, 4, 5], [6, 7, 8, 9, 10]])\n",
    "\n",
    "print(\"If you want to get the 1st to 4th index(not included) element from both the dimensions 0th and 1st then: -\") \n",
    "print(arr[0:2, 1:4])\n",
    "\n",
    "\n",
    "\n",
    "\n"
   ]
  },
  {
   "cell_type": "markdown",
   "metadata": {},
   "source": [
    "# 7. NumPy Data Types"
   ]
  },
  {
   "cell_type": "code",
   "execution_count": null,
   "metadata": {},
   "outputs": [],
   "source": [
    "# By default Python has following data types: - \n",
    "\n",
    "\"\"\"\n",
    "1) string   2) integer  3) float    4) double   5) boolean  6) complex\n",
    "\n",
    "\"\"\"\n",
    "\n",
    "# Data types in NumPy: - \n",
    "\n",
    "\"\"\"\n",
    "Numpy has extra data types and refer to data types with one character, like 'i' for integer, 'u' for unsigned integer, etc.\n",
    "Following is the list of all data types in NumPy: -\n",
    "\n",
    "i - integer\n",
    "b - boolean\n",
    "u - unsigned integer\n",
    "f - float\n",
    "c - complex data\n",
    "m - timedelta\n",
    "M - datetime\n",
    "O - object\n",
    "S - String\n",
    "U - Unicode String\n",
    "V - Fixed chunk of memory for other data type (void)\n",
    "\n",
    "\"\"\"\n"
   ]
  },
  {
   "cell_type": "markdown",
   "metadata": {},
   "source": [
    "### 7.1. Checking the Data Type of an Array: -  "
   ]
  },
  {
   "cell_type": "code",
   "execution_count": null,
   "metadata": {},
   "outputs": [],
   "source": [
    "# We can check datatype of an array by \"array.dtype\" property.\n",
    "\n",
    "\n",
    "# EXAMPLE 1: - \n",
    "\n",
    "\n",
    "import numpy as np\n",
    "\n",
    "arr = np.array([1,2,3])\n",
    "\n",
    "print(arr)\n",
    "print(arr.dtype)\n",
    "\n",
    "print(\"---------------------------------------------------------------------------------------------------------------------------------\")\n",
    "\n",
    "# EXAMPLE 2: - \n",
    "\n",
    "\n",
    "import numpy as np\n",
    "\n",
    "arr = np.array(['a','b','c'])\n",
    "\n",
    "print(arr)\n",
    "print(arr.dtype)\n",
    "\n"
   ]
  },
  {
   "cell_type": "markdown",
   "metadata": {},
   "source": [
    "### 7.2. Creating an array with defined Data Type: - "
   ]
  },
  {
   "cell_type": "code",
   "execution_count": 67,
   "metadata": {},
   "outputs": [
    {
     "name": "stdout",
     "output_type": "stream",
     "text": [
      "[b'1' b'2' b'3' b'4']\n",
      "|S1\n",
      "[1 2 3 4]\n",
      "int32\n"
     ]
    }
   ],
   "source": [
    "import numpy as np\n",
    "\n",
    "arr = np.array([1,2,3,4], dtype='S')\n",
    "\n",
    "print(arr)\n",
    "print(arr.dtype)\n",
    "\n",
    "\n",
    "\n",
    "# For i, u, f, S, and U we can define size as well.\n",
    "\n",
    "import numpy as np\n",
    "\n",
    "arr = np.array([1,2,3,4], dtype='i4')\n",
    "\n",
    "print(arr)\n",
    "print(arr.dtype)\n"
   ]
  },
  {
   "cell_type": "markdown",
   "metadata": {},
   "source": [
    "### 7.3. What if value cannot be converted?"
   ]
  },
  {
   "cell_type": "code",
   "execution_count": null,
   "metadata": {},
   "outputs": [],
   "source": [
    "# If a type is given in which element can't be casted then NumPy will raise a Valueerror.\n",
    "\n",
    "# ValueError: In Python ValueError is raised when the type of passed argument to a function is unexpected/incorrect.\n",
    "\n",
    "import numpy as np\n",
    "\n",
    "arr = np.array(['a', 2, 3], dtype = 'i')            # This will give you an error as you are trying to convert 'a' element to integer."
   ]
  },
  {
   "cell_type": "markdown",
   "metadata": {},
   "source": [
    "### 7.3.1 Converting Data type on Existing array: - "
   ]
  },
  {
   "cell_type": "code",
   "execution_count": 85,
   "metadata": {},
   "outputs": [
    {
     "name": "stdout",
     "output_type": "stream",
     "text": [
      "[b'1' b'2' b'3' b'4']\n",
      "|S11\n",
      "--------------------------------------------------------------------------------------------------------------------\n",
      "[1 2 3]\n",
      "int32\n",
      "--------------------------------------------------------------------------------------------------------------------\n",
      "[ True False  True]\n",
      "bool\n"
     ]
    }
   ],
   "source": [
    "\"\"\"\n",
    "- Best way to change the data type of an existing array is to make a copy of an array with astype() method.\n",
    "- astype() method creates a copy of the array, and allows you to specify the data type as a parameter.\n",
    "- You can specify the data type by 'i' for integers, 'f' for float, etc.  OR you can specify it by data type directly like float for float, int for integer.\n",
    "\n",
    "\"\"\" \n",
    "\n",
    "\n",
    "# EXAMPLE 1): - \n",
    "\n",
    "\n",
    "import numpy as np\n",
    "\n",
    "arr = np.array([1,2,3,4])\n",
    "new_arr = arr.astype('S')\n",
    "\n",
    "print(new_arr)\n",
    "print(new_arr.dtype)\n",
    "\n",
    "print(\"--------------------------------------------------------------------------------------------------------------------\")\n",
    "\n",
    "\n",
    "# EXAMPLE 2): - \n",
    "\n",
    "\n",
    "import numpy as np\n",
    "\n",
    "arr = np.array([1.1, 2.1, 3.1])\n",
    "new_arr = arr.astype('i')\n",
    "print(new_arr)\n",
    "print(new_arr.dtype)\n",
    "\n",
    "print(\"--------------------------------------------------------------------------------------------------------------------\")\n",
    "\n",
    "# EXAMPLE 3): - \n",
    "\n",
    "\n",
    "import numpy as np\n",
    "\n",
    "arr = np.array([1.1, 0.0, 3.1])\n",
    "new_arr = arr.astype(bool)\n",
    "print(new_arr)\n",
    "print(new_arr.dtype)\n",
    "\n",
    "\n"
   ]
  },
  {
   "cell_type": "markdown",
   "metadata": {},
   "source": [
    "# 8. NumPy Copy vs View"
   ]
  },
  {
   "cell_type": "code",
   "execution_count": null,
   "metadata": {},
   "outputs": [],
   "source": [
    "\"\"\"\n",
    "- The main difference between \"copy\" and \"view\" is that, \"copy\" is a new array, and the \"view\" is just a view of the original array.\n",
    "- \"copy\" owns the data and changes made to original array will not affect the copy, and changes made to copy will not affect the original array.\n",
    "- \"view\" does not own the data and changes made to the original array will affect the view, and changes made to the view will affect the original array.\n",
    "\n",
    "\"\"\" "
   ]
  },
  {
   "cell_type": "markdown",
   "metadata": {},
   "source": [
    "### 8.1. Numpy COPY: - "
   ]
  },
  {
   "cell_type": "code",
   "execution_count": 86,
   "metadata": {},
   "outputs": [
    {
     "name": "stdout",
     "output_type": "stream",
     "text": [
      "[1 2 3 4]\n"
     ]
    }
   ],
   "source": [
    "import numpy as np \n",
    "\n",
    "arr = np.array([1,2,3,4])\n",
    "\n",
    "x = arr.copy()\n",
    "print(x)\n",
    "print(arr)"
   ]
  },
  {
   "cell_type": "markdown",
   "metadata": {},
   "source": [
    "### 8.1.1 Making changes to COPY array / Making changes to original array: - "
   ]
  },
  {
   "cell_type": "code",
   "execution_count": null,
   "metadata": {},
   "outputs": [],
   "source": [
    "# If we made changes to copy, it will affect original And if we made changes to original, it will affect copy.\n",
    "\n",
    "import numpy as np\n",
    "\n",
    "arr = np.array([1,2,3,4])\n",
    "x = arr.copy()\n",
    "\n",
    "x[2] = 30\n",
    "print(arr)\n",
    "print(x)"
   ]
  },
  {
   "cell_type": "markdown",
   "metadata": {},
   "source": [
    "### 8.2. Numpy VIEW: - "
   ]
  },
  {
   "cell_type": "code",
   "execution_count": null,
   "metadata": {},
   "outputs": [],
   "source": [
    "import numpy as np\n",
    "\n",
    "arr = np.array([1,2,3,4])\n",
    "\n",
    "x = arr.view()\n",
    "print(x)\n",
    "print(arr)"
   ]
  },
  {
   "cell_type": "markdown",
   "metadata": {},
   "source": [
    "### 8.2.1. Making changes to VIEW array / Making changes to original array: - "
   ]
  },
  {
   "cell_type": "code",
   "execution_count": 93,
   "metadata": {},
   "outputs": [
    {
     "name": "stdout",
     "output_type": "stream",
     "text": [
      "[ 1 20  3  4]\n",
      "[ 1 20  3  4]\n"
     ]
    }
   ],
   "source": [
    "# If we made changes to view, it will affect original And if we made changes to original, it will affect view.\n",
    "\n",
    "import numpy as np \n",
    "\n",
    "arr = np.array([1,2,3,4])\n",
    "\n",
    "x= arr.view()\n",
    "x[1] = 20\n",
    "print(x)\n",
    "print(arr)"
   ]
  },
  {
   "cell_type": "markdown",
   "metadata": {},
   "source": [
    "## 8.3. Check if array owns its data: - "
   ]
  },
  {
   "cell_type": "code",
   "execution_count": 94,
   "metadata": {},
   "outputs": [
    {
     "name": "stdout",
     "output_type": "stream",
     "text": [
      "None\n",
      "[1 2 3 4]\n"
     ]
    }
   ],
   "source": [
    "# As we know copy owns the data, and view does not. But how can we check it?\n",
    "\n",
    "# Every NumPy array has attribute \"base\" that returns 'None' if the array owns the data. Otherwise \"base\" attribute refers to original object.\n",
    "\n",
    "import numpy as np\n",
    "\n",
    "arr = np.array([1,2,3,4])\n",
    "x = arr.copy()\n",
    "y = arr.view()\n",
    "\n",
    "print(x.base)\n",
    "print(y.base)"
   ]
  },
  {
   "cell_type": "markdown",
   "metadata": {},
   "source": [
    "# 9. NumPy Array Shape"
   ]
  },
  {
   "cell_type": "code",
   "execution_count": 95,
   "metadata": {},
   "outputs": [
    {
     "name": "stdout",
     "output_type": "stream",
     "text": [
      "[[1 2 3 4]\n",
      " [5 6 7 8]]\n",
      "(2, 4)\n"
     ]
    }
   ],
   "source": [
    "\"\"\"\n",
    "- The shape attribute of a NumPy array returns a tuple representing the dimensions of the array. \n",
    "- In following example, \"arr.shape\" will return a tuple - (2, 4), indicating that arr is a 2-dimensional array with 2 rows and 4 columns.\n",
    "\n",
    "\"\"\"\n",
    "\n",
    "\n",
    "# Example 1): - \n",
    "\n",
    "import numpy as np\n",
    "\n",
    "arr = np.array([[1,2,3,4], [5,6,7,8]])\n",
    "print(arr)\n",
    "print(arr.shape)            # O/P: - (2,4) i.e. 2 dimensions and 4 columns\n",
    "\n",
    "\n",
    "\n",
    "\n",
    "\n",
    "# Example 2): - \n",
    "\n",
    "\n",
    "\n",
    "import numpy as np\n",
    "\n",
    "\n",
    "arr = np.array([1,2,3,4], ndmin=5)        # Here we created an array with 5 dimensions.\n",
    "print(arr)\n",
    "print(arr.shape)            # o/p: - (1,1,1,1,4)"
   ]
  },
  {
   "cell_type": "markdown",
   "metadata": {},
   "source": [
    "# 10. NumPy Array Reshaping"
   ]
  },
  {
   "cell_type": "code",
   "execution_count": null,
   "metadata": {},
   "outputs": [],
   "source": [
    "# Reshaping means changing the shape of an array.\n",
    "\n",
    "\n",
    "\n",
    "print(\" -------------------------------------------------------------------- RESHAPING FROM 1-D to 2-D: - ---------------------------------------------------------------------\")\n",
    "# RESHAPING FROM 1-D to 2-D: - \n",
    "\n",
    "import numpy as np\n",
    "\n",
    "arr = np.array([1, 2, 3, 4, 5, 6, 7, 8, 9, 10, 11, 12])\n",
    "new_arr = arr.reshape(4,3)\n",
    "print(new_arr)\n",
    "\n",
    "\n",
    "print(\" -------------------------------------------------------------------- RESHAPING FROM 1-D to 3-D: - ---------------------------------------------------------------------\")\n",
    "# RESHAPING FROM 1-D to 3-D: - \n",
    "\n",
    "import numpy as np \n",
    "\n",
    "arr = np.array([1,2,3,4,5,6,7,8,9,10,11,12])\n",
    "new_arr = arr.reshape(2,2,3)\n",
    "print(new_arr)\n",
    "\n",
    "\n",
    "# Note: - we can shape into any shape, as long as the elements required for reshaping are equal in both shapes.\n",
    "# Following example will raise an error as it cannot shape the 8 elements array into 3 rows and 3 columns. \n",
    "\n",
    "import numpy as np\n",
    "\n",
    "arr = np.array([1, 2, 3, 4, 5, 6, 7, 8])\n",
    "newarr = arr.reshape(3, 3)\n"
   ]
  },
  {
   "cell_type": "markdown",
   "metadata": {},
   "source": [
    "### 10.1. Check if the returned array is a copy or a view:"
   ]
  },
  {
   "cell_type": "code",
   "execution_count": null,
   "metadata": {},
   "outputs": [],
   "source": [
    "\n",
    "import numpy as np\n",
    "\n",
    "arr = np.array([1, 2, 3, 4, 5, 6, 7, 8])\n",
    "print(arr.reshape(2, 4).base)           # The example above returns the original array, so it is a view."
   ]
  },
  {
   "cell_type": "markdown",
   "metadata": {},
   "source": [
    "### 10.2. Unknown Dimensions: - "
   ]
  },
  {
   "cell_type": "code",
   "execution_count": null,
   "metadata": {},
   "outputs": [],
   "source": [
    "\"\"\"\n",
    "\n",
    "You are allowed to have one \"unknown\" dimension.\n",
    "Meaning that you do not have to specify an exact number for one of the dimensions in the reshape method.\n",
    "Pass -1 as the value, and NumPy will calculate this number for you.\n",
    "\n",
    "\"\"\" \n",
    "\n",
    "import numpy as np\n",
    "\n",
    "arr = np.array([1, 2, 3, 4, 5, 6, 7, 8])\n",
    "newarr = arr.reshape(2, 2, -1)\n",
    "print(newarr)\n",
    "\n",
    "# Note: We can not pass -1 to more than one dimension.\n",
    "\n"
   ]
  },
  {
   "cell_type": "markdown",
   "metadata": {},
   "source": [
    "### 10.3. Flattening the arrays: - \n"
   ]
  },
  {
   "cell_type": "code",
   "execution_count": null,
   "metadata": {},
   "outputs": [],
   "source": [
    "# We can use reshape(-1) to do this.\n",
    "\n",
    "import numpy as np\n",
    "\n",
    "arr = np.array([[1,2,3],[4,5,6]])\n",
    "new_arr = arr.reshape(-1)\n",
    "print(arr)\n",
    "print(new_arr)"
   ]
  },
  {
   "cell_type": "markdown",
   "metadata": {},
   "source": [
    "# 11. NumPy Array Iterating"
   ]
  },
  {
   "cell_type": "code",
   "execution_count": null,
   "metadata": {},
   "outputs": [],
   "source": [
    "# Iterating through array means going through array one by one. We can do it using basic \"for\" loop of python.\n",
    "# If we iterate on a 1-D array it will go through each element one by one."
   ]
  },
  {
   "cell_type": "markdown",
   "metadata": {},
   "source": [
    "### 11.1. Iterating through 1-D array: - "
   ]
  },
  {
   "cell_type": "code",
   "execution_count": 8,
   "metadata": {},
   "outputs": [
    {
     "name": "stdout",
     "output_type": "stream",
     "text": [
      "------------------------------------------------------------- Iterating through 1-D array ---------------------------------------------------------------------------\n",
      "1\n",
      "2\n",
      "3\n",
      "4\n"
     ]
    }
   ],
   "source": [
    "\n",
    "print(\"------------------------------------------------------------- Iterating through 1-D array ---------------------------------------------------------------------------\")\n",
    "\n",
    "import numpy as np\n",
    "\n",
    "arr = np.array([1,2,3,4])\n",
    "\n",
    "for x in arr:\n",
    "    print(x) \n",
    "\n",
    "\n"
   ]
  },
  {
   "cell_type": "markdown",
   "metadata": {},
   "source": [
    "### 11.2. Iterating through 2-D array: - "
   ]
  },
  {
   "cell_type": "code",
   "execution_count": null,
   "metadata": {},
   "outputs": [],
   "source": [
    "\n",
    "\n",
    "print(\"------------------------------------------------------------- Iterating through 2-D array ---------------------------------------------------------------------------\")\n",
    "\n",
    "\n",
    "import numpy as np\n",
    "\n",
    "arr = np.array([[1,2,3,4],[5,6,7,8]])\n",
    "\n",
    "for x in arr:\n",
    "    print(x)\n",
    "\n",
    "\n",
    "# If we want actual values or scalar values then: - \n",
    "print(\"----------------------------------------------------------------------------------------------------------------\")\n",
    "    \n",
    "\n",
    "import numpy as np\n",
    "\n",
    "arr = np.array([[1,2,3,4],[5,6,7,8]])\n",
    "\n",
    "for x in arr:\n",
    "    for y in x:\n",
    "        print(y)"
   ]
  },
  {
   "cell_type": "markdown",
   "metadata": {},
   "source": [
    "### 11.3. Iterating through 3-D array: - "
   ]
  },
  {
   "cell_type": "code",
   "execution_count": 19,
   "metadata": {},
   "outputs": [
    {
     "name": "stdout",
     "output_type": "stream",
     "text": [
      "------------------------------------------------------------- Iterating through 3-D array ---------------------------------------------------------------------------\n",
      "[[1 2]\n",
      " [3 4]]\n",
      "[[5 6]\n",
      " [7 8]]\n",
      "----------------------------------------------------------------------------------------------------------------\n",
      "1\n",
      "2\n",
      "3\n",
      "4\n",
      "5\n",
      "6\n",
      "7\n",
      "8\n"
     ]
    }
   ],
   "source": [
    "print(\"------------------------------------------------------------- Iterating through 3-D array ---------------------------------------------------------------------------\")\n",
    "\n",
    "\n",
    "import numpy as np\n",
    "\n",
    "arr = np.array([[[1,2],[3,4]],[[5,6],[7,8]]])\n",
    "\n",
    "for x in arr:\n",
    "    print(x)\n",
    "\n",
    "\n",
    "# To return actual values, the scalar values: - \n",
    "    \n",
    "print(\"----------------------------------------------------------------------------------------------------------------\")\n",
    "\n",
    "\n",
    "import numpy as np\n",
    "\n",
    "arr = np.array([[[1,2],[3,4]],[[5,6],[7,8]]])\n",
    "\n",
    "for x in arr:\n",
    "    for y in x:\n",
    "        for z in y:\n",
    "            print(z)\n"
   ]
  },
  {
   "cell_type": "markdown",
   "metadata": {},
   "source": [
    "### 11.4. Iterating arrays Using nditer(): -"
   ]
  },
  {
   "cell_type": "code",
   "execution_count": 20,
   "metadata": {},
   "outputs": [
    {
     "name": "stdout",
     "output_type": "stream",
     "text": [
      "1\n",
      "2\n",
      "3\n",
      "4\n",
      "5\n",
      "6\n",
      "7\n",
      "8\n"
     ]
    }
   ],
   "source": [
    "# nditer() is a helping function that can be used from very basic to very advanced iterations. It solve some basic issues which we face in iteration.\n",
    "\n",
    "import numpy as np\n",
    "\n",
    "arr = np.array([[[1,2],[3,4]],[[5,6],[7,8]]])\n",
    "\n",
    "for x in np.nditer(arr):\n",
    "    print(x)"
   ]
  },
  {
   "cell_type": "markdown",
   "metadata": {},
   "source": [
    "### 11.5. Iterating Array With Different Data Types\n"
   ]
  },
  {
   "cell_type": "code",
   "execution_count": 22,
   "metadata": {},
   "outputs": [
    {
     "name": "stdout",
     "output_type": "stream",
     "text": [
      "b'1'\n",
      "b'2'\n",
      "b'3'\n"
     ]
    }
   ],
   "source": [
    "# We can use op_dtypes argument and pass it the expected datatype to change the datatype of elements while iterating.\n",
    "\n",
    "# NumPy does not change the data type of the element in-place (where the element is in array) \n",
    "# so it needs some other space to perform this action, that extra space is called buffer, and in order to enable it in nditer() we pass flags=['buffered'].\n",
    "\n",
    "\n",
    "import numpy as np\n",
    "\n",
    "arr = np.array([1,2,3])\n",
    "\n",
    "for x in np.nditer(arr, flags=['buffered'], op_dtypes=['S']):\n",
    "    print(x)"
   ]
  },
  {
   "cell_type": "markdown",
   "metadata": {},
   "source": [
    "# 12. NumPy Array Join"
   ]
  },
  {
   "cell_type": "code",
   "execution_count": 24,
   "metadata": {},
   "outputs": [
    {
     "name": "stdout",
     "output_type": "stream",
     "text": [
      "[1 2 3 4 5 6]\n"
     ]
    }
   ],
   "source": [
    "# In SQL we join tables based on a key, whereas in NumPy we join arrays by axis.\n",
    "# We pass a sequence of arrays that we want to join to the concatenate() function, along with the axis. If axis is not explicitly passed, it is taken as 0.\n",
    "\n",
    "\n",
    "import numpy as np\n",
    "\n",
    "arr1 = np.array([1,2,3])\n",
    "arr2 = np.array([4,5,6])\n",
    "\n",
    "new_arr = np.concatenate((arr1, arr2))\n",
    "print(new_arr)"
   ]
  },
  {
   "cell_type": "markdown",
   "metadata": {},
   "source": [
    "### 12.1. Join two 2-D arrays along rows (axis=1):"
   ]
  },
  {
   "cell_type": "code",
   "execution_count": 30,
   "metadata": {},
   "outputs": [
    {
     "name": "stdout",
     "output_type": "stream",
     "text": [
      "[[1 2 5 6]\n",
      " [3 4 7 8]]\n"
     ]
    }
   ],
   "source": [
    "import numpy as np\n",
    "\n",
    "arr1 = np.array([[1,2],[3,4]])\n",
    "arr2 = np.array([[5,6],[7,8]])\n",
    "\n",
    "new_arr = np.concatenate((arr1, arr2), axis=1)\n",
    "print(new_arr)"
   ]
  },
  {
   "cell_type": "markdown",
   "metadata": {},
   "source": [
    "### 12.2. Joining Arrays Using Stack Functions: - "
   ]
  },
  {
   "cell_type": "code",
   "execution_count": 31,
   "metadata": {},
   "outputs": [
    {
     "name": "stdout",
     "output_type": "stream",
     "text": [
      "[[1 4]\n",
      " [2 5]\n",
      " [3 6]]\n"
     ]
    }
   ],
   "source": [
    "import numpy as np\n",
    "\n",
    "\n",
    "arr1 = np.array([1, 2, 3])\n",
    "arr2 = np.array([4, 5, 6])\n",
    "\n",
    "arr = np.stack((arr1, arr2), axis=1)\n",
    "\n",
    "print(arr)"
   ]
  },
  {
   "cell_type": "markdown",
   "metadata": {},
   "source": [
    "### 12.3. Stacking Along Rows: - "
   ]
  },
  {
   "cell_type": "code",
   "execution_count": 33,
   "metadata": {},
   "outputs": [
    {
     "name": "stdout",
     "output_type": "stream",
     "text": [
      "[1 2 3 4 5 6]\n"
     ]
    }
   ],
   "source": [
    "# NumPy provides a helper function: hstack() to stack along rows.\n",
    "\n",
    "import numpy as np\n",
    "\n",
    "\n",
    "arr1 = np.array([1, 2, 3])\n",
    "arr2 = np.array([4, 5, 6])\n",
    "\n",
    "new_arr = np.hstack((arr1,arr2))\n",
    "print(new_arr)"
   ]
  },
  {
   "cell_type": "markdown",
   "metadata": {},
   "source": [
    "### 12.4. Stacking Along Columns: - "
   ]
  },
  {
   "cell_type": "code",
   "execution_count": 34,
   "metadata": {},
   "outputs": [
    {
     "name": "stdout",
     "output_type": "stream",
     "text": [
      "[[1 2 3]\n",
      " [4 5 6]]\n"
     ]
    }
   ],
   "source": [
    "# NumPy provides a helper function: vstack() to stack along Columns.\n",
    "\n",
    "import numpy as np\n",
    "\n",
    "\n",
    "arr1 = np.array([1, 2, 3])\n",
    "arr2 = np.array([4, 5, 6])\n",
    "\n",
    "new_arr = np.vstack((arr1,arr2))\n",
    "print(new_arr)"
   ]
  },
  {
   "cell_type": "markdown",
   "metadata": {},
   "source": [
    "### 12.5. Stacking Along Height (depth): - "
   ]
  },
  {
   "cell_type": "code",
   "execution_count": 35,
   "metadata": {},
   "outputs": [
    {
     "name": "stdout",
     "output_type": "stream",
     "text": [
      "[[[1 4]\n",
      "  [2 5]\n",
      "  [3 6]]]\n"
     ]
    }
   ],
   "source": [
    "import numpy as np\n",
    "\n",
    "arr1 = np.array([1, 2, 3])\n",
    "arr2 = np.array([4, 5, 6])\n",
    "\n",
    "arr = np.dstack((arr1, arr2))\n",
    "\n",
    "print(arr)"
   ]
  },
  {
   "cell_type": "markdown",
   "metadata": {},
   "source": [
    "# 13. NumPy Splitting Array: - "
   ]
  },
  {
   "cell_type": "code",
   "execution_count": 38,
   "metadata": {},
   "outputs": [
    {
     "name": "stdout",
     "output_type": "stream",
     "text": [
      "[array([1, 2]), array([3, 4]), array([5, 6])]\n"
     ]
    }
   ],
   "source": [
    "# Splitting is a reverse process of joining.\n",
    "# Joining merges multiple arrays into one, whereas splitting breaks one array into multiple.\n",
    "\n",
    "\"\"\"\n",
    "There are 2 methods: -  array_split(): - If the array has less elements than required, it will adjust from the end accordingly.\n",
    "                        split(): -      This method gives error when the array has less elements than required. \n",
    "\n",
    "\"\"\"\n",
    "\n",
    "\n",
    "import numpy as np\n",
    "\n",
    "arr = np.array([1,2,3,4,5,6])\n",
    "new_arr = np.array_split(arr, 3)\n",
    "print(new_arr)\n",
    "\n",
    "\n",
    "# Note: We also have the method split() available but it will not adjust the elements when elements are less in source array for splitting like in example above.\n"
   ]
  },
  {
   "cell_type": "markdown",
   "metadata": {},
   "source": [
    "### 13.1. Split into Arrays: - "
   ]
  },
  {
   "cell_type": "code",
   "execution_count": 39,
   "metadata": {},
   "outputs": [
    {
     "name": "stdout",
     "output_type": "stream",
     "text": [
      "[1 2]\n",
      "[3 4]\n",
      "[5 6]\n"
     ]
    }
   ],
   "source": [
    "import numpy as np\n",
    "\n",
    "arr = np.array([1, 2, 3, 4, 5, 6])\n",
    "\n",
    "newarr = np.array_split(arr, 3)\n",
    "\n",
    "print(newarr[0])\n",
    "print(newarr[1])\n",
    "print(newarr[2])"
   ]
  },
  {
   "cell_type": "markdown",
   "metadata": {},
   "source": [
    "### 13.2. Splitting 2-D Arrays: - "
   ]
  },
  {
   "cell_type": "code",
   "execution_count": 43,
   "metadata": {},
   "outputs": [
    {
     "name": "stdout",
     "output_type": "stream",
     "text": [
      "[array([[1, 2],\n",
      "       [3, 4]]), array([[5, 6],\n",
      "       [7, 8]]), array([[ 9, 10],\n",
      "       [11, 12]])]\n",
      "------------------------------- Splitting 2-D array into 3 2-D array: - ----------------------------------------------------------------------\n",
      "[array([[1, 2, 3],\n",
      "       [4, 5, 6]]), array([[ 7,  8,  9],\n",
      "       [10, 11, 12]]), array([[13, 14, 15],\n",
      "       [16, 17, 18]])]\n"
     ]
    }
   ],
   "source": [
    "# Split the 2-D array into three 2-D arrays.\n",
    "\n",
    "import numpy as np\n",
    "\n",
    "arr = np.array([[1, 2], [3, 4], [5, 6], [7, 8], [9, 10], [11, 12]])\n",
    "\n",
    "newarr = np.array_split(arr, 3)\n",
    "\n",
    "print(newarr)\n",
    "\n",
    "\n",
    "print(\"------------------------------- Splitting 2-D array into 3 2-D array: - ----------------------------------------------------------------------\")\n",
    "\n",
    "# EXAMPLE 2): - Splitting 2-D array into 3 2-D array: - \n",
    "\n",
    "import numpy as np\n",
    "\n",
    "arr = np.array([[1, 2, 3], [4, 5, 6], [7, 8, 9], [10, 11, 12], [13, 14, 15], [16, 17, 18]])\n",
    "\n",
    "newarr = np.array_split(arr, 3)\n",
    "\n",
    "print(newarr)"
   ]
  },
  {
   "cell_type": "markdown",
   "metadata": {},
   "source": [
    "### 13.3. Splitting 2-D arrays with axis: - "
   ]
  },
  {
   "cell_type": "code",
   "execution_count": 44,
   "metadata": {},
   "outputs": [
    {
     "name": "stdout",
     "output_type": "stream",
     "text": [
      "[array([[1, 2, 3],\n",
      "       [4, 5, 6]]), array([[ 7,  8,  9],\n",
      "       [10, 11, 12]]), array([[13, 14, 15],\n",
      "       [16, 17, 18]])]\n"
     ]
    }
   ],
   "source": [
    "import numpy as np\n",
    "\n",
    "arr = np.array([[1, 2, 3], [4, 5, 6], [7, 8, 9], [10, 11, 12], [13, 14, 15], [16, 17, 18]])\n",
    "\n",
    "newarr = np.array_split(arr, 3)\n",
    "\n",
    "print(newarr)\n"
   ]
  },
  {
   "cell_type": "markdown",
   "metadata": {},
   "source": [
    "# 14. NumPy Searching Arrays: - "
   ]
  },
  {
   "cell_type": "code",
   "execution_count": 45,
   "metadata": {},
   "outputs": [
    {
     "name": "stdout",
     "output_type": "stream",
     "text": [
      "(array([1], dtype=int64),)\n"
     ]
    }
   ],
   "source": [
    "# You can search an element from an array and return an index of that element by \"where()\" method.\n",
    "\n",
    "import numpy as np \n",
    "\n",
    "\n",
    "arr = np.array([3,4,5,6])\n",
    "x = np.where(arr == 4)\n",
    "print(x)"
   ]
  },
  {
   "cell_type": "code",
   "execution_count": 46,
   "metadata": {},
   "outputs": [
    {
     "name": "stdout",
     "output_type": "stream",
     "text": [
      "(array([2, 3, 7], dtype=int64),)\n"
     ]
    }
   ],
   "source": [
    "# EXAMPLE 2): - \n",
    "\n",
    "import numpy as np \n",
    "\n",
    "\n",
    "arr = np.array([1,2,3,3,4,5,6,3])\n",
    "x = np.where(arr == 3)\n",
    "print(x)"
   ]
  },
  {
   "cell_type": "code",
   "execution_count": 47,
   "metadata": {},
   "outputs": [
    {
     "name": "stdout",
     "output_type": "stream",
     "text": [
      "(array([1, 3, 5], dtype=int64),)\n"
     ]
    }
   ],
   "source": [
    "# EXAMPLE 3) Find indexes of even elements: - \n",
    "\n",
    "import numpy as np \n",
    "\n",
    "arr = np.array([1,2,3,4,5,6])\n",
    "x = np.where(arr % 2 == 0)\n",
    "print(x)"
   ]
  },
  {
   "cell_type": "code",
   "execution_count": 48,
   "metadata": {},
   "outputs": [
    {
     "name": "stdout",
     "output_type": "stream",
     "text": [
      "(array([0, 2, 4], dtype=int64),)\n"
     ]
    }
   ],
   "source": [
    "# EXAMPLE 4) Find indexes of odd elements: - \n",
    "\n",
    "import numpy as np \n",
    "\n",
    "arr = np.array([1,2,3,4,5,6])\n",
    "x = np.where(arr % 2 == 1)\n",
    "print(x)"
   ]
  },
  {
   "cell_type": "markdown",
   "metadata": {},
   "source": [
    "### 14.2. searchsorted() method: - "
   ]
  },
  {
   "cell_type": "code",
   "execution_count": 49,
   "metadata": {},
   "outputs": [
    {
     "name": "stdout",
     "output_type": "stream",
     "text": [
      "3\n"
     ]
    }
   ],
   "source": [
    "# searchsorted() method performs binary search in the array, and returns the index position where specified element should be inserted to maintain the search order.\n",
    "# Always pass the sorted array otherwise it will not behave properly.\n",
    "\n",
    "import numpy as np\n",
    "\n",
    "arr = np.array([3,5,6,9])\n",
    "x = np.searchsorted(arr, 7)\n",
    "print(x)"
   ]
  },
  {
   "cell_type": "code",
   "execution_count": 55,
   "metadata": {},
   "outputs": [
    {
     "name": "stdout",
     "output_type": "stream",
     "text": [
      "4\n"
     ]
    }
   ],
   "source": [
    "\"\"\"\n",
    "\n",
    "- If you want to search from right side simply give \" side = 'right' \".\n",
    "- By default, side='left' means the function will return the leftmost (i.e., the lowest) index where the value could be inserted without changing the order of the array.\n",
    "- side='right' means the function will return the rightmost (i.e., the highest) index where the value could be inserted.\n",
    "\n",
    "\n",
    "\"\"\" \n",
    "    \n",
    "\n",
    "import numpy as np \n",
    "\n",
    "arr = np.array([3,5,6,7,9])\n",
    "x = np.searchsorted(arr, 7, side = 'right')\n",
    "print(x)"
   ]
  },
  {
   "cell_type": "markdown",
   "metadata": {},
   "source": [
    "### 14.3. Multiple Values: - "
   ]
  },
  {
   "cell_type": "code",
   "execution_count": 60,
   "metadata": {},
   "outputs": [
    {
     "name": "stdout",
     "output_type": "stream",
     "text": [
      "[2 4 6]\n"
     ]
    }
   ],
   "source": [
    "# To search more than 1 value, use an array with specified values.\n",
    "\n",
    "import numpy as np\n",
    "\n",
    "arr = np.array([1, 5, 7, 10, 11, 14, 20])\n",
    "x = np.searchsorted(arr, [7, 11, 20])\n",
    "print(x)"
   ]
  },
  {
   "cell_type": "markdown",
   "metadata": {},
   "source": [
    "# 15. Numpy Sorting Arrays"
   ]
  },
  {
   "cell_type": "code",
   "execution_count": 64,
   "metadata": {},
   "outputs": [
    {
     "name": "stdout",
     "output_type": "stream",
     "text": [
      "------------------------------- Sorting Numerical elements : - ----------------------------------------------------------------------\n",
      "[0 1 2 3]\n",
      "------------------------------- Sorting Alphabetical elements : - ----------------------------------------------------------------------\n",
      "['apple' 'banana' 'cherry']\n",
      "------------------------------- Sorting boolean elements : - ----------------------------------------------------------------------\n",
      "[False  True  True]\n"
     ]
    }
   ],
   "source": [
    "\"\"\"\n",
    "\n",
    "- Sorting means putting arrays in an ordered sequence.\n",
    "- Numpy ndarray object has a function called sort(), that will sort a specified array.\n",
    "- sort() will return a copy of ordered array, leaving the original array unchanged. \n",
    "\n",
    "\"\"\"\n",
    "\n",
    "# EXAMPLE 1): - Sorting Numerical elements: - \n",
    "print(\"------------------------------- Sorting Numerical elements : - ----------------------------------------------------------------------\")\n",
    "\n",
    "\n",
    "import numpy as np \n",
    "\n",
    "arr = np.array([3, 2, 1, 0])\n",
    "x = np.sort(arr)\n",
    "print(x)\n",
    "\n",
    "\n",
    "# EXAMPLE 2): - Sorting alphabetical elements: - \n",
    "print(\"------------------------------- Sorting Alphabetical elements : - ----------------------------------------------------------------------\")\n",
    "\n",
    "\n",
    "import numpy as np \n",
    "\n",
    "\n",
    "arr = np.array(['banana', 'apple', 'cherry'])\n",
    "x = np.sort(arr)\n",
    "print(x)\n",
    "\n",
    "\n",
    "\n",
    "# EXAMPLE 3): - Sorting boolean elements: - \n",
    "print(\"------------------------------- Sorting boolean elements : - ----------------------------------------------------------------------\")\n",
    "\n",
    "\n",
    "import numpy as np \n",
    "\n",
    "\n",
    "arr = np.array([True, False, True])\n",
    "x = np.sort(arr)\n",
    "print(x)"
   ]
  },
  {
   "cell_type": "markdown",
   "metadata": {},
   "source": [
    "### 15.1. Sorting 2-D array: - "
   ]
  },
  {
   "cell_type": "code",
   "execution_count": 67,
   "metadata": {},
   "outputs": [
    {
     "name": "stdout",
     "output_type": "stream",
     "text": [
      "[3 4 6 7 8]\n"
     ]
    }
   ],
   "source": [
    "# If you use sort() on both 2-D array, it will sort both the array.\n",
    "\n",
    "import numpy as np \n",
    "\n",
    "arr = np.array([4, 3, 8, 6, 7])\n",
    "x = np.sort(arr)\n",
    "print(x)"
   ]
  },
  {
   "cell_type": "markdown",
   "metadata": {},
   "source": [
    "# 16. Numpy Filter Array"
   ]
  },
  {
   "cell_type": "code",
   "execution_count": 74,
   "metadata": {},
   "outputs": [
    {
     "name": "stdout",
     "output_type": "stream",
     "text": [
      "[12 45]\n"
     ]
    }
   ],
   "source": [
    "# Getting some elements out of existing array and creating a new array out of them is called as \"Filtering\".\n",
    "# In Numpy, we use boolean index list to filter an array. \n",
    "# If the value at an index is True that element is contained in the filtered array, if the value at that index is False that element is excluded from the filtered array.\n",
    "\n",
    "import numpy as np \n",
    "\n",
    "\n",
    "arr = np.array([12, 54, 45, 78])\n",
    "filter_array = [True, False, True, False]\n",
    "new_array = arr[filter_array]\n",
    "\n",
    "print(new_array)\n",
    "\n",
    "# New array contains only the values where the filter array had the value True. In this case index 0 and 2.\n",
    "\n",
    "\n"
   ]
  },
  {
   "cell_type": "markdown",
   "metadata": {},
   "source": [
    "### 16.1. Creating filter array based on conditions: - "
   ]
  },
  {
   "cell_type": "code",
   "execution_count": 80,
   "metadata": {},
   "outputs": [
    {
     "name": "stdout",
     "output_type": "stream",
     "text": [
      "[54 89 65]\n"
     ]
    }
   ],
   "source": [
    "# Condition: - get the elements greater than 50.\n",
    "\n",
    "import numpy as np \n",
    "\n",
    "\n",
    "filter_array = []\n",
    "\n",
    "arr = np.array([10, 20, 30, 54, 89, 65])\n",
    "for element in arr:\n",
    "    if element > 50:\n",
    "        filter_array.append(True)\n",
    "    else: \n",
    "        filter_array.append(False)\n",
    "\n",
    "new_arr = arr[filter_array]\n",
    "print(new_arr)\n",
    "        "
   ]
  },
  {
   "cell_type": "code",
   "execution_count": 83,
   "metadata": {},
   "outputs": [
    {
     "name": "stdout",
     "output_type": "stream",
     "text": [
      "[12 56 78 94]\n"
     ]
    }
   ],
   "source": [
    "# Condition: - get the even elements from an array.\n",
    "\n",
    "\n",
    "import numpy as np \n",
    "\n",
    "filter_array = []\n",
    "\n",
    "arr = np.array([12, 56, 78, 94, 55])\n",
    "for element in arr:\n",
    "    if element % 2 == 0:\n",
    "        filter_array.append(True)\n",
    "    else:\n",
    "        filter_array.append(False)\n",
    "    \n",
    "new_arr = arr[filter_array]\n",
    "print(new_arr)"
   ]
  },
  {
   "cell_type": "markdown",
   "metadata": {},
   "source": [
    "### 16.2. Creating Filter directly from Array: - "
   ]
  },
  {
   "cell_type": "code",
   "execution_count": 91,
   "metadata": {},
   "outputs": [
    {
     "name": "stdout",
     "output_type": "stream",
     "text": [
      "[False False  True  True]\n",
      "[43 44]\n"
     ]
    }
   ],
   "source": [
    "# The above example is quite a common task in NumPy and NumPy provides a nice way to tackle it.\n",
    "# We can directly substitute the array instead of the iterable variable in our condition and it will work just as we expect it to.\n",
    "\n",
    "import numpy as np \n",
    "\n",
    "arr = np.array([41, 42, 43, 44])\n",
    "filter_array = arr > 42\n",
    "\n",
    "print(filter_array)\n",
    "print(arr[filter_array])"
   ]
  },
  {
   "cell_type": "code",
   "execution_count": 93,
   "metadata": {},
   "outputs": [
    {
     "name": "stdout",
     "output_type": "stream",
     "text": [
      "[ True  True  True  True False]\n",
      "[12 56 78 94]\n"
     ]
    }
   ],
   "source": [
    "# Condition: - Getting even elements from an array.\n",
    "\n",
    "\n",
    "import numpy as np \n",
    "\n",
    "arr = np.array([12, 56, 78, 94, 55])\n",
    "filter_array = (arr % 2 == 0)\n",
    "\n",
    "print(filter_array)\n",
    "print(arr[filter_array])"
   ]
  }
 ],
 "metadata": {
  "kernelspec": {
   "display_name": "Python 3",
   "language": "python",
   "name": "python3"
  },
  "language_info": {
   "codemirror_mode": {
    "name": "ipython",
    "version": 3
   },
   "file_extension": ".py",
   "mimetype": "text/x-python",
   "name": "python",
   "nbconvert_exporter": "python",
   "pygments_lexer": "ipython3",
   "version": "3.10.8"
  }
 },
 "nbformat": 4,
 "nbformat_minor": 2
}
